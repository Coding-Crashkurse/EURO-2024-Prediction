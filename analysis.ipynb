{
 "cells": [
  {
   "cell_type": "code",
   "execution_count": null,
   "metadata": {},
   "outputs": [],
   "source": [
    "import pandas as pd\n",
    "from sklearn.model_selection import train_test_split\n",
    "from sklearn.ensemble import RandomForestClassifier\n",
    "from sklearn.metrics import accuracy_score\n",
    "\n",
    "\n",
    "data = pd.read_csv(\"results.csv\")\n",
    "\n",
    "data = data.apply(lambda x: x.str.lower() if x.dtype == \"object\" else x)\n",
    "data['date'] = pd.to_datetime(data['date'], errors='coerce')\n",
    "data = data[data['date'].dt.year >= 2010]\n",
    "\n",
    "data['match_outcome'] = data.apply(\n",
    "    lambda row: 'home_win' if row['home_score'] > row['away_score'] else ('away_win' if row['home_score'] < row['away_score'] else 'draw'),\n",
    "    axis=1\n",
    ")\n",
    "print(data['match_outcome'].value_counts())"
   ]
  },
  {
   "cell_type": "code",
   "execution_count": null,
   "metadata": {},
   "outputs": [],
   "source": [
    "data = pd.get_dummies(data, columns=['home_team', 'away_team'], drop_first=True)\n",
    "data.head(2)"
   ]
  },
  {
   "cell_type": "code",
   "execution_count": null,
   "metadata": {},
   "outputs": [],
   "source": [
    "X = data.drop(columns=['date', 'home_score', 'away_score', 'match_outcome', 'tournament', 'city', 'country'])\n",
    "y = data['match_outcome']\n",
    "y = y.map({'home_win': 1, 'draw': 0, 'away_win': -1})\n",
    "\n",
    "X_train, X_test, y_train, y_test = train_test_split(X, y, test_size=0.3, random_state=42)\n",
    "\n",
    "rf_model = RandomForestClassifier(n_estimators=100, random_state=42)\n",
    "rf_model.fit(X_train, y_train)\n",
    "\n",
    "y_pred = rf_model.predict(X_test)\n",
    "print(\"Accuracy:\", accuracy_score(y_test, y_pred))"
   ]
  },
  {
   "cell_type": "code",
   "execution_count": null,
   "metadata": {},
   "outputs": [],
   "source": [
    "groups = {\n",
    "    \"Group A\": [\"germany\", \"hungary\", \"scotland\", \"switzerland\"],\n",
    "    \"Group B\": [\"albania\", \"croatia\", \"italy\", \"spain\"],\n",
    "    \"Group C\": [\"denmark\", \"england\", \"serbia\", \"slovenia\"],\n",
    "    \"Group D\": [\"austria\", \"france\", \"netherlands\", \"poland\"],\n",
    "    \"Group E\": [\"belgium\", \"romania\", \"slovakia\", \"ukraine\"],\n",
    "    \"Group F\": [\"czech republic\", \"portugal\", \"turkey\", \"georgia\"]\n",
    "}"
   ]
  },
  {
   "cell_type": "code",
   "execution_count": null,
   "metadata": {},
   "outputs": [],
   "source": [
    "from itertools import combinations\n",
    "\n",
    "def simulate_group_matches(group_teams, model, data_columns):\n",
    "    points = {team: 0 for team in group_teams}\n",
    "\n",
    "    for home_team, away_team in combinations(group_teams, 2):\n",
    "        match_data = pd.DataFrame(columns=data_columns)\n",
    "\n",
    "        for column in data_columns:\n",
    "            if f'home_team_{home_team}' in column:\n",
    "                match_data.at[0, column] = 1\n",
    "            elif f'away_team_{away_team}' in column:\n",
    "                match_data.at[0, column] = 1\n",
    "            else:\n",
    "                match_data.at[0, column] = 0\n",
    "\n",
    "        prediction = model.predict(match_data)\n",
    "\n",
    "\n",
    "        if prediction == 1:\n",
    "            points[home_team] += 3\n",
    "        elif prediction == -1:\n",
    "            points[away_team] += 3\n",
    "        else:\n",
    "            points[home_team] += 1\n",
    "            points[away_team] += 1\n",
    "\n",
    "    ranked_teams = sorted(points.items(), key=lambda x: x[1], reverse=True)\n",
    "    return ranked_teams"
   ]
  },
  {
   "cell_type": "code",
   "execution_count": null,
   "metadata": {},
   "outputs": [],
   "source": [
    "group_rankings = {}\n",
    "for group_name, group_teams in groups.items():\n",
    "    ranked_teams = simulate_group_matches(group_teams, rf_model, X.columns)\n",
    "    group_rankings[group_name] = ranked_teams\n",
    "group_rankings"
   ]
  },
  {
   "cell_type": "code",
   "execution_count": null,
   "metadata": {},
   "outputs": [],
   "source": [
    "achtelfinale_matches = [ # Just demo :)\n",
    "    ('spain', 'poland'),\n",
    "    ('switzerland', 'england'),\n",
    "    ('turkey', 'hungary'),\n",
    "    ('netherlands', 'slovakia'),\n",
    "    ('belgium', 'croatia'),\n",
    "    ('france', 'portugal'),\n",
    "    ('denmark', 'czech republic'),\n",
    "    ('germany', 'italy')\n",
    "]"
   ]
  },
  {
   "cell_type": "code",
   "execution_count": null,
   "metadata": {},
   "outputs": [],
   "source": [
    "def simulate_knockout_match(home_team, away_team, model, data_columns):\n",
    "    match_data = pd.DataFrame(columns=data_columns)\n",
    "\n",
    "    for column in data_columns:\n",
    "        if f'home_team_{home_team}' in column:\n",
    "            match_data.at[0, column] = 1\n",
    "        elif f'away_team_{away_team}' in column:\n",
    "            match_data.at[0, column] = 1\n",
    "        else:\n",
    "            match_data.at[0, column] = 0\n",
    "\n",
    "    prediction = model.predict(match_data)\n",
    "    if prediction == 1:\n",
    "        return home_team\n",
    "    elif prediction == -1:\n",
    "        return away_team\n",
    "    else:\n",
    "        return home_team if model.predict_proba(match_data)[0][1] > model.predict_proba(match_data)[0][2] else away_team\n",
    "\n",
    "\n",
    "achtelfinale_results = {}\n",
    "print(\"Achtelfinale Results:\")\n",
    "for home_team, away_team in achtelfinale_matches:\n",
    "    winner = simulate_knockout_match(home_team, away_team, rf_model, X.columns)\n",
    "    achtelfinale_results[f\"{home_team} vs {away_team}\"] = winner\n",
    "    print(f\"{home_team} vs {away_team} -> Winner: {winner}\")\n",
    "\n",
    "print(\"\\nAchtelfinale Results Dictionary:\")\n",
    "print(achtelfinale_results)"
   ]
  },
  {
   "cell_type": "code",
   "execution_count": null,
   "metadata": {},
   "outputs": [],
   "source": [
    "achtelfinale_winners = list(achtelfinale_results.values())\n",
    "viertelfinale_matches = [\n",
    "    (achtelfinale_winners[3], achtelfinale_winners[1]),\n",
    "    (achtelfinale_winners[5], achtelfinale_winners[4]),\n",
    "    (achtelfinale_winners[6], achtelfinale_winners[7]),\n",
    "    (achtelfinale_winners[2], achtelfinale_winners[0])\n",
    "]\n",
    "\n",
    "\n",
    "viertelfinale_results = {}\n",
    "print(\"\\nViertelfinale Results:\")\n",
    "for home_team, away_team in viertelfinale_matches:\n",
    "    winner = simulate_knockout_match(home_team, away_team, rf_model, X.columns)\n",
    "    viertelfinale_results[f\"{home_team} vs {away_team}\"] = winner\n",
    "    print(f\"{home_team} vs {away_team} -> Winner: {winner}\")"
   ]
  },
  {
   "cell_type": "code",
   "execution_count": null,
   "metadata": {},
   "outputs": [],
   "source": [
    "viertelfinale_winners = list(viertelfinale_results.values())\n",
    "halbfinale_matches = [\n",
    "    (viertelfinale_winners[0], viertelfinale_winners[1]),\n",
    "    (viertelfinale_winners[3], viertelfinale_winners[2])\n",
    "]\n",
    "\n",
    "\n",
    "halbfinale_results = {}\n",
    "print(\"\\nHalbfinale Results:\")\n",
    "for home_team, away_team in halbfinale_matches:\n",
    "    winner = simulate_knockout_match(home_team, away_team, rf_model, X.columns)\n",
    "    halbfinale_results[f\"{home_team} vs {away_team}\"] = winner\n",
    "    print(f\"{home_team} vs {away_team} -> Winner: {winner}\")"
   ]
  },
  {
   "cell_type": "code",
   "execution_count": null,
   "metadata": {},
   "outputs": [],
   "source": [
    "halbfinale_winners = list(halbfinale_results.values())\n",
    "finale_match = (halbfinale_winners[0], halbfinale_winners[1])\n",
    "\n",
    "print(\"\\nFinale Result:\")\n",
    "finale_winner = simulate_knockout_match(finale_match[0], finale_match[1], rf_model, X.columns)\n",
    "print(f\"{finale_match[0]} vs {finale_match[1]} -> Winner: {finale_winner}\")\n",
    "\n",
    "print(\"\\nFinale Winner:\")\n",
    "print(finale_winner)"
   ]
  }
 ],
 "metadata": {
  "kernelspec": {
   "display_name": "Python 3",
   "language": "python",
   "name": "python3"
  },
  "language_info": {
   "codemirror_mode": {
    "name": "ipython",
    "version": 3
   },
   "file_extension": ".py",
   "mimetype": "text/x-python",
   "name": "python",
   "nbconvert_exporter": "python",
   "pygments_lexer": "ipython3",
   "version": "3.11.0"
  }
 },
 "nbformat": 4,
 "nbformat_minor": 2
}
